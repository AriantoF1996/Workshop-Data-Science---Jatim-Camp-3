{
 "cells": [
  {
   "cell_type": "markdown",
   "metadata": {},
   "source": [
    "# COUNT VECTORIZER"
   ]
  },
  {
   "cell_type": "code",
   "execution_count": 1,
   "metadata": {
    "collapsed": true
   },
   "outputs": [],
   "source": [
    "from sklearn.feature_extraction.text import CountVectorizer\n",
    "from nltk.corpus import stopwords"
   ]
  },
  {
   "cell_type": "code",
   "execution_count": 2,
   "metadata": {
    "collapsed": true
   },
   "outputs": [],
   "source": [
    "stopset = set(stopwords.words('english'))\n",
    "vektor = CountVectorizer(lowercase=True)"
   ]
  },
  {
   "cell_type": "code",
   "execution_count": 3,
   "metadata": {
    "collapsed": true
   },
   "outputs": [],
   "source": [
    "kata0 = \"Hi katie the self driving car car will be late best sebastian zoo\"\n",
    "kata1 = \"hi sebastian the machine learning class will be great great great best katie\"\n",
    "kata2 = \"hi katie the machine learning class will be most excellent\""
   ]
  },
  {
   "cell_type": "code",
   "execution_count": 4,
   "metadata": {
    "collapsed": true
   },
   "outputs": [],
   "source": [
    "daftar = [kata0, kata1, kata2]"
   ]
  },
  {
   "cell_type": "code",
   "execution_count": 5,
   "metadata": {},
   "outputs": [
    {
     "data": {
      "text/plain": [
       "list"
      ]
     },
     "execution_count": 5,
     "metadata": {},
     "output_type": "execute_result"
    }
   ],
   "source": [
    "type(daftar)"
   ]
  },
  {
   "cell_type": "code",
   "execution_count": 6,
   "metadata": {},
   "outputs": [
    {
     "data": {
      "text/plain": [
       "['Hi katie the self driving car car will be late best sebastian zoo',\n",
       " 'hi sebastian the machine learning class will be great great great best katie',\n",
       " 'hi katie the machine learning class will be most excellent']"
      ]
     },
     "execution_count": 6,
     "metadata": {},
     "output_type": "execute_result"
    }
   ],
   "source": [
    "daftar"
   ]
  },
  {
   "cell_type": "code",
   "execution_count": 7,
   "metadata": {},
   "outputs": [
    {
     "data": {
      "text/plain": [
       "CountVectorizer(analyzer='word', binary=False, decode_error='strict',\n",
       "        dtype=<class 'numpy.int64'>, encoding='utf-8', input='content',\n",
       "        lowercase=True, max_df=1.0, max_features=None, min_df=1,\n",
       "        ngram_range=(1, 1), preprocessor=None, stop_words=None,\n",
       "        strip_accents=None, token_pattern='(?u)\\\\b\\\\w\\\\w+\\\\b',\n",
       "        tokenizer=None, vocabulary=None)"
      ]
     },
     "execution_count": 7,
     "metadata": {},
     "output_type": "execute_result"
    }
   ],
   "source": [
    "vektor.fit(daftar)"
   ]
  },
  {
   "cell_type": "code",
   "execution_count": 8,
   "metadata": {
    "collapsed": true
   },
   "outputs": [],
   "source": [
    "bag_of_word = vektor.transform(daftar)"
   ]
  },
  {
   "cell_type": "code",
   "execution_count": 9,
   "metadata": {},
   "outputs": [
    {
     "name": "stdout",
     "output_type": "stream",
     "text": [
      "  (0, 0)\t1\n",
      "  (0, 1)\t1\n",
      "  (0, 2)\t2\n",
      "  (0, 4)\t1\n",
      "  (0, 7)\t1\n",
      "  (0, 8)\t1\n",
      "  (0, 9)\t1\n",
      "  (0, 13)\t1\n",
      "  (0, 14)\t1\n",
      "  (0, 15)\t1\n",
      "  (0, 16)\t1\n",
      "  (0, 17)\t1\n",
      "  (1, 0)\t1\n",
      "  (1, 1)\t1\n",
      "  (1, 3)\t1\n",
      "  (1, 6)\t3\n",
      "  (1, 7)\t1\n",
      "  (1, 8)\t1\n",
      "  (1, 10)\t1\n",
      "  (1, 11)\t1\n",
      "  (1, 13)\t1\n",
      "  (1, 15)\t1\n",
      "  (1, 16)\t1\n",
      "  (2, 0)\t1\n",
      "  (2, 3)\t1\n",
      "  (2, 5)\t1\n",
      "  (2, 7)\t1\n",
      "  (2, 8)\t1\n",
      "  (2, 10)\t1\n",
      "  (2, 11)\t1\n",
      "  (2, 12)\t1\n",
      "  (2, 15)\t1\n",
      "  (2, 16)\t1\n"
     ]
    }
   ],
   "source": [
    "print(bag_of_word)      #(nomer dokumen, nomer kata)       banyak muncul"
   ]
  },
  {
   "cell_type": "code",
   "execution_count": 10,
   "metadata": {},
   "outputs": [
    {
     "name": "stdout",
     "output_type": "stream",
     "text": [
      "0\n"
     ]
    }
   ],
   "source": [
    "print(vektor.vocabulary_.get(\"be\"));"
   ]
  },
  {
   "cell_type": "code",
   "execution_count": 11,
   "metadata": {},
   "outputs": [
    {
     "data": {
      "text/plain": [
       "array([[1, 1, 2, 0, 1, 0, 0, 1, 1, 1, 0, 0, 0, 1, 1, 1, 1, 1],\n",
       "       [1, 1, 0, 1, 0, 0, 3, 1, 1, 0, 1, 1, 0, 1, 0, 1, 1, 0],\n",
       "       [1, 0, 0, 1, 0, 1, 0, 1, 1, 0, 1, 1, 1, 0, 0, 1, 1, 0]], dtype=int64)"
      ]
     },
     "execution_count": 11,
     "metadata": {},
     "output_type": "execute_result"
    }
   ],
   "source": [
    "bag_of_word.toarray()"
   ]
  },
  {
   "cell_type": "code",
   "execution_count": 12,
   "metadata": {},
   "outputs": [
    {
     "data": {
      "text/plain": [
       "['be',\n",
       " 'best',\n",
       " 'car',\n",
       " 'class',\n",
       " 'driving',\n",
       " 'excellent',\n",
       " 'great',\n",
       " 'hi',\n",
       " 'katie',\n",
       " 'late',\n",
       " 'learning',\n",
       " 'machine',\n",
       " 'most',\n",
       " 'sebastian',\n",
       " 'self',\n",
       " 'the',\n",
       " 'will',\n",
       " 'zoo']"
      ]
     },
     "execution_count": 12,
     "metadata": {},
     "output_type": "execute_result"
    }
   ],
   "source": [
    "vektor.get_feature_names()"
   ]
  },
  {
   "cell_type": "markdown",
   "metadata": {},
   "source": [
    "#                                  "
   ]
  },
  {
   "cell_type": "code",
   "execution_count": 13,
   "metadata": {
    "collapsed": true
   },
   "outputs": [],
   "source": [
    "import nltk\n",
    "from nltk import FreqDist\n",
    "\n",
    "kata0 = \"Hi katie the self driving car car will be late best sebastian zoo\"\n",
    "kata1 = \"hi sebastian the machine learning class will be great great great best katie\"\n",
    "kata2 = \"hi katie the machine learning class will be most excellent\"\n",
    "daftar = kata0+\" \"+kata1+\" \"+kata2\n",
    "daftar = daftar.lower()\n",
    "tokens = nltk.word_tokenize(daftar)\n",
    "fdist=FreqDist(tokens)"
   ]
  },
  {
   "cell_type": "code",
   "execution_count": 14,
   "metadata": {},
   "outputs": [
    {
     "data": {
      "text/plain": [
       "FreqDist({'be': 3,\n",
       "          'best': 2,\n",
       "          'car': 2,\n",
       "          'class': 2,\n",
       "          'driving': 1,\n",
       "          'excellent': 1,\n",
       "          'great': 3,\n",
       "          'hi': 3,\n",
       "          'katie': 3,\n",
       "          'late': 1,\n",
       "          'learning': 2,\n",
       "          'machine': 2,\n",
       "          'most': 1,\n",
       "          'sebastian': 2,\n",
       "          'self': 1,\n",
       "          'the': 3,\n",
       "          'will': 3,\n",
       "          'zoo': 1})"
      ]
     },
     "execution_count": 14,
     "metadata": {},
     "output_type": "execute_result"
    }
   ],
   "source": [
    "fdist"
   ]
  },
  {
   "cell_type": "markdown",
   "metadata": {},
   "source": [
    "# TFIDF"
   ]
  },
  {
   "cell_type": "code",
   "execution_count": 15,
   "metadata": {
    "collapsed": true
   },
   "outputs": [],
   "source": [
    "from sklearn.feature_extraction.text import TfidfVectorizer"
   ]
  },
  {
   "cell_type": "code",
   "execution_count": 16,
   "metadata": {
    "collapsed": true
   },
   "outputs": [],
   "source": [
    "kata0 = \"Hi katie the self driving car car will be late best sebastian zoo\"\n",
    "kata1 = \"hi sebastian the machine learning class will be great great great best katie\"\n",
    "kata2 = \"hi katie the machine learning class will be most excellent\""
   ]
  },
  {
   "cell_type": "code",
   "execution_count": 17,
   "metadata": {
    "collapsed": true
   },
   "outputs": [],
   "source": [
    "daftar = [kata0, kata1, kata2]"
   ]
  },
  {
   "cell_type": "code",
   "execution_count": 18,
   "metadata": {},
   "outputs": [
    {
     "data": {
      "text/plain": [
       "['Hi katie the self driving car car will be late best sebastian zoo',\n",
       " 'hi sebastian the machine learning class will be great great great best katie',\n",
       " 'hi katie the machine learning class will be most excellent']"
      ]
     },
     "execution_count": 18,
     "metadata": {},
     "output_type": "execute_result"
    }
   ],
   "source": [
    "daftar"
   ]
  },
  {
   "cell_type": "code",
   "execution_count": 19,
   "metadata": {},
   "outputs": [
    {
     "data": {
      "text/plain": [
       "list"
      ]
     },
     "execution_count": 19,
     "metadata": {},
     "output_type": "execute_result"
    }
   ],
   "source": [
    "type(daftar)"
   ]
  },
  {
   "cell_type": "code",
   "execution_count": 20,
   "metadata": {
    "collapsed": true
   },
   "outputs": [],
   "source": [
    "hitung  = TfidfVectorizer(lowercase=True, stop_words='english')"
   ]
  },
  {
   "cell_type": "code",
   "execution_count": 21,
   "metadata": {
    "collapsed": true
   },
   "outputs": [],
   "source": [
    "tfidf = hitung.fit_transform(daftar)"
   ]
  },
  {
   "cell_type": "code",
   "execution_count": 22,
   "metadata": {},
   "outputs": [
    {
     "name": "stdout",
     "output_type": "stream",
     "text": [
      "  (0, 6)\t0.188143410316\n",
      "  (0, 7)\t0.188143410316\n",
      "  (0, 12)\t0.318554484718\n",
      "  (0, 3)\t0.318554484718\n",
      "  (0, 1)\t0.637108969436\n",
      "  (0, 8)\t0.318554484718\n",
      "  (0, 0)\t0.242268896514\n",
      "  (0, 11)\t0.242268896514\n",
      "  (0, 13)\t0.318554484718\n",
      "  (1, 6)\t0.166455605364\n",
      "  (1, 7)\t0.166455605364\n",
      "  (1, 0)\t0.214341898886\n",
      "  (1, 11)\t0.214341898886\n",
      "  (1, 10)\t0.214341898886\n",
      "  (1, 9)\t0.214341898886\n",
      "  (1, 2)\t0.214341898886\n",
      "  (1, 5)\t0.845501516731\n",
      "  (2, 6)\t0.318770171371\n",
      "  (2, 7)\t0.318770171371\n",
      "  (2, 10)\t0.410474634907\n",
      "  (2, 9)\t0.410474634907\n",
      "  (2, 2)\t0.410474634907\n",
      "  (2, 4)\t0.539724816904\n"
     ]
    }
   ],
   "source": [
    "print(tfidf)"
   ]
  },
  {
   "cell_type": "code",
   "execution_count": 23,
   "metadata": {},
   "outputs": [
    {
     "data": {
      "text/plain": [
       "array([[ 0.2422689 ,  0.63710897,  0.        ,  0.31855448,  0.        ,\n",
       "         0.        ,  0.18814341,  0.18814341,  0.31855448,  0.        ,\n",
       "         0.        ,  0.2422689 ,  0.31855448,  0.31855448],\n",
       "       [ 0.2143419 ,  0.        ,  0.2143419 ,  0.        ,  0.        ,\n",
       "         0.84550152,  0.16645561,  0.16645561,  0.        ,  0.2143419 ,\n",
       "         0.2143419 ,  0.2143419 ,  0.        ,  0.        ],\n",
       "       [ 0.        ,  0.        ,  0.41047463,  0.        ,  0.53972482,\n",
       "         0.        ,  0.31877017,  0.31877017,  0.        ,  0.41047463,\n",
       "         0.41047463,  0.        ,  0.        ,  0.        ]])"
      ]
     },
     "execution_count": 23,
     "metadata": {},
     "output_type": "execute_result"
    }
   ],
   "source": [
    "tfidf.toarray()"
   ]
  },
  {
   "cell_type": "code",
   "execution_count": 24,
   "metadata": {},
   "outputs": [
    {
     "data": {
      "text/plain": [
       "['best',\n",
       " 'car',\n",
       " 'class',\n",
       " 'driving',\n",
       " 'excellent',\n",
       " 'great',\n",
       " 'hi',\n",
       " 'katie',\n",
       " 'late',\n",
       " 'learning',\n",
       " 'machine',\n",
       " 'sebastian',\n",
       " 'self',\n",
       " 'zoo']"
      ]
     },
     "execution_count": 24,
     "metadata": {},
     "output_type": "execute_result"
    }
   ],
   "source": [
    "hitung.get_feature_names()"
   ]
  },
  {
   "cell_type": "code",
   "execution_count": null,
   "metadata": {
    "collapsed": true
   },
   "outputs": [],
   "source": []
  },
  {
   "cell_type": "code",
   "execution_count": null,
   "metadata": {
    "collapsed": true
   },
   "outputs": [],
   "source": []
  }
 ],
 "metadata": {
  "kernelspec": {
   "display_name": "Python 3",
   "language": "python",
   "name": "python3"
  },
  "language_info": {
   "codemirror_mode": {
    "name": "ipython",
    "version": 3
   },
   "file_extension": ".py",
   "mimetype": "text/x-python",
   "name": "python",
   "nbconvert_exporter": "python",
   "pygments_lexer": "ipython3",
   "version": "3.6.1"
  }
 },
 "nbformat": 4,
 "nbformat_minor": 2
}

{
 "cells": [
  {
   "cell_type": "code",
   "execution_count": 1,
   "metadata": {
    "collapsed": true
   },
   "outputs": [],
   "source": [
    "import nltk\n",
    "from nltk.corpus import sentiwordnet as swn"
   ]
  },
  {
   "cell_type": "code",
   "execution_count": 10,
   "metadata": {
    "collapsed": true
   },
   "outputs": [],
   "source": [
    "teks=\"i am going to bioskop\""
   ]
  },
  {
   "cell_type": "code",
   "execution_count": 11,
   "metadata": {
    "collapsed": true
   },
   "outputs": [],
   "source": [
    "teks = teks.lower()"
   ]
  },
  {
   "cell_type": "code",
   "execution_count": 12,
   "metadata": {
    "collapsed": true
   },
   "outputs": [],
   "source": [
    "kalimat = nltk.sent_tokenize(teks)"
   ]
  },
  {
   "cell_type": "code",
   "execution_count": 13,
   "metadata": {},
   "outputs": [
    {
     "name": "stdout",
     "output_type": "stream",
     "text": [
      "['i am going to bioskop']\n"
     ]
    }
   ],
   "source": [
    "print(kalimat)"
   ]
  },
  {
   "cell_type": "code",
   "execution_count": 14,
   "metadata": {
    "collapsed": true
   },
   "outputs": [],
   "source": [
    "kata = [nltk.word_tokenize(sent) for sent in kalimat]"
   ]
  },
  {
   "cell_type": "code",
   "execution_count": 15,
   "metadata": {},
   "outputs": [
    {
     "data": {
      "text/plain": [
       "[['i', 'am', 'going', 'to', 'bioskop']]"
      ]
     },
     "execution_count": 15,
     "metadata": {},
     "output_type": "execute_result"
    }
   ],
   "source": [
    "kata"
   ]
  },
  {
   "cell_type": "code",
   "execution_count": 16,
   "metadata": {
    "collapsed": true
   },
   "outputs": [],
   "source": [
    "postaggedlist=[]\n",
    "for stoken in kata:        \n",
    "     postaggedlist.append(nltk.pos_tag(stoken))\n",
    "wnl = nltk.WordNetLemmatizer()"
   ]
  },
  {
   "cell_type": "code",
   "execution_count": 17,
   "metadata": {},
   "outputs": [
    {
     "data": {
      "text/plain": [
       "[[('i', 'NN'),\n",
       "  ('am', 'VBP'),\n",
       "  ('going', 'VBG'),\n",
       "  ('to', 'TO'),\n",
       "  ('bioskop', 'VB')]]"
      ]
     },
     "execution_count": 17,
     "metadata": {},
     "output_type": "execute_result"
    }
   ],
   "source": [
    "postaggedlist"
   ]
  },
  {
   "cell_type": "code",
   "execution_count": 18,
   "metadata": {},
   "outputs": [
    {
     "name": "stdout",
     "output_type": "stream",
     "text": [
      "[SentiSynset('iodine.n.01'), SentiSynset('one.n.01'), SentiSynset('i.n.03')]\n",
      "skor positif :  0.0\n",
      "skor negatif :  0.0\n",
      "Hasil Skor :  0.0\n",
      "skor positif :  0.0\n",
      "skor negatif :  0.0\n",
      "Hasil Skor :  0.0\n",
      "skor positif :  0.0\n",
      "skor negatif :  0.0\n",
      "Hasil Skor :  0.0\n",
      "[SentiSynset('be.v.01'), SentiSynset('be.v.02'), SentiSynset('be.v.03'), SentiSynset('exist.v.01'), SentiSynset('be.v.05'), SentiSynset('equal.v.01'), SentiSynset('constitute.v.01'), SentiSynset('be.v.08'), SentiSynset('embody.v.02'), SentiSynset('be.v.10'), SentiSynset('be.v.11'), SentiSynset('be.v.12'), SentiSynset('cost.v.01')]\n",
      "skor positif :  0.25\n",
      "skor negatif :  0.125\n",
      "Hasil Skor :  0.125\n",
      "skor positif :  0.0\n",
      "skor negatif :  0.0\n",
      "Hasil Skor :  0.125\n",
      "skor positif :  0.0\n",
      "skor negatif :  0.0\n",
      "Hasil Skor :  0.125\n",
      "skor positif :  0.0\n",
      "skor negatif :  0.0\n",
      "Hasil Skor :  0.125\n",
      "skor positif :  0.0\n",
      "skor negatif :  0.0\n",
      "Hasil Skor :  0.125\n",
      "skor positif :  0.125\n",
      "skor negatif :  0.125\n",
      "Hasil Skor :  0.125\n",
      "skor positif :  0.0\n",
      "skor negatif :  0.0\n",
      "Hasil Skor :  0.125\n",
      "skor positif :  0.0\n",
      "skor negatif :  0.0\n",
      "Hasil Skor :  0.125\n",
      "skor positif :  0.0\n",
      "skor negatif :  0.0\n",
      "Hasil Skor :  0.125\n",
      "skor positif :  0.0\n",
      "skor negatif :  0.0\n",
      "Hasil Skor :  0.125\n",
      "skor positif :  0.0\n",
      "skor negatif :  0.0\n",
      "Hasil Skor :  0.125\n",
      "skor positif :  0.0\n",
      "skor negatif :  0.0\n",
      "Hasil Skor :  0.125\n",
      "skor positif :  0.0\n",
      "skor negatif :  0.0\n",
      "Hasil Skor :  0.125\n",
      "[SentiSynset('travel.v.01'), SentiSynset('go.v.02'), SentiSynset('go.v.03'), SentiSynset('become.v.01'), SentiSynset('go.v.05'), SentiSynset('run.v.05'), SentiSynset('run.v.03'), SentiSynset('proceed.v.04'), SentiSynset('go.v.09'), SentiSynset('go.v.10'), SentiSynset('sound.v.02'), SentiSynset('function.v.01'), SentiSynset('run_low.v.01'), SentiSynset('move.v.13'), SentiSynset('survive.v.01'), SentiSynset('go.v.16'), SentiSynset('die.v.01'), SentiSynset('belong.v.03'), SentiSynset('go.v.19'), SentiSynset('start.v.09'), SentiSynset('move.v.15'), SentiSynset('go.v.22'), SentiSynset('go.v.23'), SentiSynset('blend.v.02'), SentiSynset('go.v.25'), SentiSynset('fit.v.02'), SentiSynset('rifle.v.02'), SentiSynset('go.v.28'), SentiSynset('plump.v.04'), SentiSynset('fail.v.04')]\n",
      "skor positif :  0.0\n",
      "skor negatif :  0.0\n",
      "Hasil Skor :  0.0\n",
      "skor positif :  0.0\n",
      "skor negatif :  0.0\n",
      "Hasil Skor :  0.0\n",
      "skor positif :  0.0\n",
      "skor negatif :  0.0\n",
      "Hasil Skor :  0.0\n",
      "skor positif :  0.0\n",
      "skor negatif :  0.0\n",
      "Hasil Skor :  0.0\n",
      "skor positif :  0.0\n",
      "skor negatif :  0.0\n",
      "Hasil Skor :  0.0\n",
      "skor positif :  0.0\n",
      "skor negatif :  0.0\n",
      "Hasil Skor :  0.0\n",
      "skor positif :  0.0\n",
      "skor negatif :  0.0\n",
      "Hasil Skor :  0.0\n",
      "skor positif :  0.0\n",
      "skor negatif :  0.0\n",
      "Hasil Skor :  0.0\n",
      "skor positif :  0.0\n",
      "skor negatif :  0.0\n",
      "Hasil Skor :  0.0\n",
      "skor positif :  0.0\n",
      "skor negatif :  0.0\n",
      "Hasil Skor :  0.0\n",
      "skor positif :  0.0\n",
      "skor negatif :  0.0\n",
      "Hasil Skor :  0.0\n",
      "skor positif :  0.0\n",
      "skor negatif :  0.0\n",
      "Hasil Skor :  0.0\n",
      "skor positif :  0.0\n",
      "skor negatif :  0.0\n",
      "Hasil Skor :  0.0\n",
      "skor positif :  0.0\n",
      "skor negatif :  0.0\n",
      "Hasil Skor :  0.0\n",
      "skor positif :  0.0\n",
      "skor negatif :  0.0\n",
      "Hasil Skor :  0.0\n",
      "skor positif :  0.0\n",
      "skor negatif :  0.0\n",
      "Hasil Skor :  0.0\n",
      "skor positif :  0.0\n",
      "skor negatif :  0.0\n",
      "Hasil Skor :  0.0\n",
      "skor positif :  0.0\n",
      "skor negatif :  0.0\n",
      "Hasil Skor :  0.0\n",
      "skor positif :  0.0\n",
      "skor negatif :  0.0\n",
      "Hasil Skor :  0.0\n",
      "skor positif :  0.0\n",
      "skor negatif :  0.0\n",
      "Hasil Skor :  0.0\n",
      "skor positif :  0.0\n",
      "skor negatif :  0.0\n",
      "Hasil Skor :  0.0\n",
      "skor positif :  0.0\n",
      "skor negatif :  0.0\n",
      "Hasil Skor :  0.0\n",
      "skor positif :  0.0\n",
      "skor negatif :  0.0\n",
      "Hasil Skor :  0.0\n",
      "skor positif :  0.0\n",
      "skor negatif :  0.0\n",
      "Hasil Skor :  0.0\n",
      "skor positif :  0.0\n",
      "skor negatif :  0.0\n",
      "Hasil Skor :  0.0\n",
      "skor positif :  0.375\n",
      "skor negatif :  0.0\n",
      "Hasil Skor :  0.375\n",
      "skor positif :  0.0\n",
      "skor negatif :  0.0\n",
      "Hasil Skor :  0.375\n",
      "skor positif :  0.125\n",
      "skor negatif :  0.0\n",
      "Hasil Skor :  0.5\n",
      "skor positif :  0.0\n",
      "skor negatif :  0.0\n",
      "Hasil Skor :  0.5\n",
      "skor positif :  0.0\n",
      "skor negatif :  0.125\n",
      "Hasil Skor :  0.375\n",
      "[]\n"
     ]
    }
   ],
   "source": [
    "score_list=[]\n",
    "for idx,taggedsent in enumerate(postaggedlist):\n",
    "    score_list.append([])\n",
    "    for idx2,t in enumerate(taggedsent):\n",
    "        newtag=''\n",
    "        lemmatized=wnl.lemmatize(t[0])\n",
    "        #print(lemmatized)\n",
    "        #print(\"======================================================\")\n",
    "        if t[1].startswith('NN'):  #Noun\n",
    "            newtag='n'\n",
    "        elif t[1].startswith('JJ'):  #Adjective\n",
    "            newtag='a'\n",
    "        elif t[1].startswith('V'):   #Verb\n",
    "            newtag='v'\n",
    "        elif t[1].startswith('R'):    #Adverb\n",
    "            newtag='r'\n",
    "        else:\n",
    "            newtag=''       \n",
    "        if(newtag!=''):    \n",
    "            synsets = list(swn.senti_synsets(lemmatized, newtag))\n",
    "            print(synsets)\n",
    "            score=0\n",
    "            if(len(synsets)>0):\n",
    "                for syn in synsets:\n",
    "                    print(\"skor positif : \",syn.pos_score())\n",
    "                    print(\"skor negatif : \",syn.neg_score())\n",
    "                    score+=syn.pos_score()-syn.neg_score()\n",
    "                    print(\"Hasil Skor : \",score)\n",
    "                score_list[idx].append(score/len(synsets)) \n",
    "                   \n",
    "            "
   ]
  },
  {
   "cell_type": "code",
   "execution_count": 19,
   "metadata": {},
   "outputs": [
    {
     "name": "stdout",
     "output_type": "stream",
     "text": [
      "[[0.0, 0.009615384615384616, 0.0125]]\n"
     ]
    }
   ],
   "source": [
    "print(score_list)  #movie story is not good"
   ]
  },
  {
   "cell_type": "code",
   "execution_count": 20,
   "metadata": {},
   "outputs": [
    {
     "name": "stdout",
     "output_type": "stream",
     "text": [
      "Hasil Sentimen Untuk Kalimat: i am going to bioskop\n"
     ]
    }
   ],
   "source": [
    "sentence_sentiment=[]\n",
    "\n",
    "for score_sent in score_list:\n",
    "    sentence_sentiment.append(sum([word_score for word_score in score_sent])/len(score_sent))\n",
    "print(\"Hasil Sentimen Untuk Kalimat: \"+teks)"
   ]
  },
  {
   "cell_type": "code",
   "execution_count": 21,
   "metadata": {},
   "outputs": [
    {
     "name": "stdout",
     "output_type": "stream",
     "text": [
      "Nilai Akhir SentiWordNet :  [0.0073717948717948725]\n",
      "Kelas Positif\n"
     ]
    }
   ],
   "source": [
    "print(\"Nilai Akhir SentiWordNet : \",sentence_sentiment)\n",
    "for a in range(0, len(sentence_sentiment)):\n",
    "    if sentence_sentiment[a] > 0:\n",
    "        print(\"Kelas Positif\")\n",
    "    else:\n",
    "        print(\"Kelas Negatif\")"
   ]
  },
  {
   "cell_type": "code",
   "execution_count": null,
   "metadata": {
    "collapsed": true
   },
   "outputs": [],
   "source": []
  },
  {
   "cell_type": "code",
   "execution_count": null,
   "metadata": {
    "collapsed": true
   },
   "outputs": [],
   "source": []
  }
 ],
 "metadata": {
  "kernelspec": {
   "display_name": "Python 3",
   "language": "python",
   "name": "python3"
  },
  "language_info": {
   "codemirror_mode": {
    "name": "ipython",
    "version": 3
   },
   "file_extension": ".py",
   "mimetype": "text/x-python",
   "name": "python",
   "nbconvert_exporter": "python",
   "pygments_lexer": "ipython3",
   "version": "3.6.8"
  }
 },
 "nbformat": 4,
 "nbformat_minor": 2
}
